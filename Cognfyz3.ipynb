{
  "nbformat": 4,
  "nbformat_minor": 0,
  "metadata": {
    "colab": {
      "provenance": [],
      "authorship_tag": "ABX9TyOoIUxUDtumlbBEYXhEcl5M",
      "include_colab_link": true
    },
    "kernelspec": {
      "name": "python3",
      "display_name": "Python 3"
    },
    "language_info": {
      "name": "python"
    }
  },
  "cells": [
    {
      "cell_type": "markdown",
      "metadata": {
        "id": "view-in-github",
        "colab_type": "text"
      },
      "source": [
        "<a href=\"https://colab.research.google.com/github/KeerthiCode/Cognifyz_T3/blob/main/Cognfyz3.ipynb\" target=\"_parent\"><img src=\"https://colab.research.google.com/assets/colab-badge.svg\" alt=\"Open In Colab\"/></a>"
      ]
    },
    {
      "cell_type": "code",
      "execution_count": null,
      "metadata": {
        "id": "qLLMmC0nZPSY"
      },
      "outputs": [],
      "source": [
        "import json\n",
        "from datetime import datetime"
      ]
    },
    {
      "cell_type": "code",
      "source": [
        "class Task:\n",
        "    def __init__(self, title, description, due_date, priority, completed=False):\n",
        "        self.title = title\n",
        "        self.description = description\n",
        "        self.due_date = due_date\n",
        "        self.priority = priority\n",
        "        self.completed = completed\n",
        "\n",
        "    def to_dict(self):\n",
        "        return {\n",
        "            \"title\": self.title,\n",
        "            \"description\": self.description,\n",
        "            \"due_date\": self.due_date,\n",
        "            \"priority\": self.priority,\n",
        "            \"completed\": self.completed\n",
        "        }\n",
        "\n",
        "    @staticmethod\n",
        "    def from_dict(data):\n",
        "        return Task(data['title'], data['description'], data['due_date'], data['priority'], data['completed'])"
      ],
      "metadata": {
        "id": "zIKjE38YZsNZ"
      },
      "execution_count": null,
      "outputs": []
    },
    {
      "cell_type": "code",
      "source": [
        "def display_menu():\n",
        "    print(\"\\nTask Manager\")\n",
        "    print(\"1. Create a new task\")\n",
        "    print(\"2. View all tasks\")\n",
        "    print(\"3. Update a task\")\n",
        "    print(\"4. Delete a task\")\n",
        "    print(\"5. Mark task as completed\")\n",
        "    print(\"6. Save tasks to file\")\n",
        "    print(\"7. Load tasks from file\")\n",
        "    print(\"8. Exit\")"
      ],
      "metadata": {
        "id": "9DWEhI2jZuUJ"
      },
      "execution_count": null,
      "outputs": []
    },
    {
      "cell_type": "code",
      "source": [
        "\n",
        "def create_task(tasks):\n",
        "    title = input(\"Enter task title: \")\n",
        "    description = input(\"Enter task description: \")\n",
        "    due_date = input(\"Enter due date (YYYY-MM-DD): \")\n",
        "    priority = input(\"Enter task priority (High, Medium, Low): \")\n",
        "    task = Task(title, description, due_date, priority)\n",
        "    tasks.append(task)\n",
        "    print(\"Task created successfully!\")"
      ],
      "metadata": {
        "id": "2ZIVaraMZwLo"
      },
      "execution_count": null,
      "outputs": []
    },
    {
      "cell_type": "code",
      "source": [
        "def view_tasks(tasks):\n",
        "    if not tasks:\n",
        "        print(\"No tasks available.\")\n",
        "    else:\n",
        "        for idx, task in enumerate(tasks):\n",
        "            status = \"Completed\" if task.completed else \"Pending\"\n",
        "            print(f\"{idx + 1}. {task.title}: {task.description} [Due: {task.due_date}, Priority: {task.priority}, Status: {status}]\")"
      ],
      "metadata": {
        "id": "GtMCranoZx3W"
      },
      "execution_count": null,
      "outputs": []
    },
    {
      "cell_type": "code",
      "source": [
        "def update_task(tasks):\n",
        "    if not tasks:\n",
        "        print(\"No tasks available to update.\")\n",
        "    else:\n",
        "        view_tasks(tasks)\n",
        "        task_number = int(input(\"Enter the task number to update: \")) - 1\n",
        "        if 0 <= task_number < len(tasks):\n",
        "            title = input(\"Enter new task title: \")\n",
        "            description = input(\"Enter new task description: \")\n",
        "            due_date = input(\"Enter new due date (YYYY-MM-DD): \")\n",
        "            priority = input(\"Enter new task priority (High, Medium, Low): \")\n",
        "            tasks[task_number].title = title\n",
        "            tasks[task_number].description = description\n",
        "            tasks[task_number].due_date = due_date\n",
        "            tasks[task_number].priority = priority\n",
        "            print(\"Task updated successfully!\")\n",
        "        else:\n",
        "            print(\"Invalid task number.\")"
      ],
      "metadata": {
        "id": "gHXBx9E9Zz6w"
      },
      "execution_count": null,
      "outputs": []
    },
    {
      "cell_type": "code",
      "source": [
        "def delete_task(tasks):\n",
        "    if not tasks:\n",
        "        print(\"No tasks available to delete.\")\n",
        "    else:\n",
        "        view_tasks(tasks)\n",
        "        task_number = int(input(\"Enter the task number to delete: \")) - 1\n",
        "        if 0 <= task_number < len(tasks):\n",
        "            tasks.pop(task_number)\n",
        "            print(\"Task deleted successfully!\")\n",
        "        else:\n",
        "            print(\"Invalid task number.\")"
      ],
      "metadata": {
        "id": "zMvgBG_GZ2lO"
      },
      "execution_count": null,
      "outputs": []
    },
    {
      "cell_type": "code",
      "source": [
        "def mark_task_completed(tasks):\n",
        "    if not tasks:\n",
        "        print(\"No tasks available.\")\n",
        "    else:\n",
        "        view_tasks(tasks)\n",
        "        task_number = int(input(\"Enter the task number to mark as completed: \")) - 1\n",
        "        if 0 <= task_number < len(tasks):\n",
        "            tasks[task_number].completed = True\n",
        "            print(\"Task marked as completed!\")\n",
        "        else:\n",
        "            print(\"Invalid task number.\")"
      ],
      "metadata": {
        "id": "uvm_F8YOZ4Tq"
      },
      "execution_count": null,
      "outputs": []
    },
    {
      "cell_type": "code",
      "source": [
        "def save_tasks_to_file(tasks, filename=\"tasks.json\"):\n",
        "    with open(filename, \"w\") as file:\n",
        "        json.dump([task.to_dict() for task in tasks], file)\n",
        "    print(\"Tasks saved to file successfully!\")"
      ],
      "metadata": {
        "id": "91_kh8E9Z6M0"
      },
      "execution_count": null,
      "outputs": []
    },
    {
      "cell_type": "code",
      "source": [
        "def load_tasks_from_file(filename=\"tasks.json\"):\n",
        "    try:\n",
        "        with open(filename, \"r\") as file:\n",
        "            tasks_data = json.load(file)\n",
        "            return [Task.from_dict(task_data) for task_data in tasks_data]\n",
        "    except FileNotFoundError:\n",
        "        print(\"No saved tasks found.\")\n",
        "        return []\n",
        "    except json.JSONDecodeError:\n",
        "        print(\"Error reading tasks file.\")\n",
        "        return []"
      ],
      "metadata": {
        "id": "-4FNC0BMZ7vj"
      },
      "execution_count": null,
      "outputs": []
    },
    {
      "cell_type": "code",
      "source": [
        "def main():\n",
        "    tasks = load_tasks_from_file()\n",
        "    while True:\n",
        "        display_menu()\n",
        "        choice = input(\"Enter your choice: \")\n",
        "        if choice == '1':\n",
        "            create_task(tasks)\n",
        "        elif choice == '2':\n",
        "            view_tasks(tasks)\n",
        "        elif choice == '3':\n",
        "            update_task(tasks)\n",
        "        elif choice == '4':\n",
        "            delete_task(tasks)\n",
        "        elif choice == '5':\n",
        "            mark_task_completed(tasks)\n",
        "        elif choice == '6':\n",
        "            save_tasks_to_file(tasks)\n",
        "        elif choice == '7':\n",
        "            tasks = load_tasks_from_file()\n",
        "        elif choice == '8':\n",
        "            print(\"Exiting the Task Manager. Goodbye!\")\n",
        "            break\n",
        "        else:\n",
        "            print(\"Invalid choice. Please try again.\")\n",
        "\n",
        "if __name__ == \"__main__\":\n",
        "    main()"
      ],
      "metadata": {
        "colab": {
          "base_uri": "https://localhost:8080/"
        },
        "id": "be4ET2_NZ9Sl",
        "outputId": "00bc221f-0526-4ff7-faec-4dc21ae1c2e3"
      },
      "execution_count": null,
      "outputs": [
        {
          "name": "stdout",
          "output_type": "stream",
          "text": [
            "No saved tasks found.\n",
            "\n",
            "Task Manager\n",
            "1. Create a new task\n",
            "2. View all tasks\n",
            "3. Update a task\n",
            "4. Delete a task\n",
            "5. Mark task as completed\n",
            "6. Save tasks to file\n",
            "7. Load tasks from file\n",
            "8. Exit\n",
            "Enter your choice: 1\n",
            "Enter task title: 2\n",
            "Enter task description: 3\n",
            "Enter due date (YYYY-MM-DD): 4\n",
            "Enter task priority (High, Medium, Low): 5\n",
            "Task created successfully!\n",
            "\n",
            "Task Manager\n",
            "1. Create a new task\n",
            "2. View all tasks\n",
            "3. Update a task\n",
            "4. Delete a task\n",
            "5. Mark task as completed\n",
            "6. Save tasks to file\n",
            "7. Load tasks from file\n",
            "8. Exit\n",
            "Enter your choice: 6\n",
            "Tasks saved to file successfully!\n",
            "\n",
            "Task Manager\n",
            "1. Create a new task\n",
            "2. View all tasks\n",
            "3. Update a task\n",
            "4. Delete a task\n",
            "5. Mark task as completed\n",
            "6. Save tasks to file\n",
            "7. Load tasks from file\n",
            "8. Exit\n",
            "Enter your choice: 7\n",
            "\n",
            "Task Manager\n",
            "1. Create a new task\n",
            "2. View all tasks\n",
            "3. Update a task\n",
            "4. Delete a task\n",
            "5. Mark task as completed\n",
            "6. Save tasks to file\n",
            "7. Load tasks from file\n",
            "8. Exit\n",
            "Enter your choice: 1\n",
            "Enter task title: 8\n"
          ]
        }
      ]
    },
    {
      "cell_type": "code",
      "source": [],
      "metadata": {
        "id": "h2jq1CddZ_Kt"
      },
      "execution_count": null,
      "outputs": []
    }
  ]
}